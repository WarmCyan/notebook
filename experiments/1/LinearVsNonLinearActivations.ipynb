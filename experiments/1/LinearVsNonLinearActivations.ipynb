{
 "cells": [
  {
   "cell_type": "markdown",
   "metadata": {},
   "source": [
    "# Exploring Linear vs Non-Linear Activations in Neural Networks\n",
    "\n",
    "(Initially started 7/8/2017)"
   ]
  },
  {
   "cell_type": "markdown",
   "metadata": {},
   "source": [
    "NOTE: Prior, I've had misconceptions about how activation functions affect how a neural network works. Largely, I felt that it would make sense to use \"linear neural networks\" for learning something like a math formula. (A more linear-regression type problem?) The only context where I had explicitly thought about activation functions in a non-linear neural network, I apparently assumed them to always be sigmoidal, like many examples online! I have since discovered ReLU's are a thing, and at least vaguely understand the limitations of a linear neural network as compared to a non-linear neural network <span style='color: red'>[TODO: Prove this or find citation?]</span> but I'm continuing this experiment to see how different activations compare for different problem types.."
   ]
  },
  {
   "cell_type": "markdown",
   "metadata": {},
   "source": [
    "This is something I've wanted to test for a while, I'm very curious how well neural networks will be able to learn and generalize simple math formulas. It seems like this is something that would be very easy for the networks to do (based on activation function?)"
   ]
  },
  {
   "cell_type": "markdown",
   "metadata": {
    "collapsed": true
   },
   "source": [
    "## Question"
   ]
  },
  {
   "cell_type": "markdown",
   "metadata": {},
   "source": [
    "How do different activation functions like ReLU and logistic compare on different types of problems such as regression versus classification? How do they compare to purely linear neural networks? "
   ]
  },
  {
   "cell_type": "markdown",
   "metadata": {},
   "source": [
    "## Research"
   ]
  },
  {
   "cell_type": "code",
   "execution_count": 2,
   "metadata": {
    "collapsed": true
   },
   "outputs": [],
   "source": [
    "import nbhelper as nb\n",
    "%matplotlib inline"
   ]
  },
  {
   "cell_type": "markdown",
   "metadata": {},
   "source": [
    "Some different types of activation functions:"
   ]
  },
  {
   "cell_type": "code",
   "execution_count": 3,
   "metadata": {},
   "outputs": [
    {
     "data": {
      "image/png": "[encoded data removed]",
      "text/plain": [
       "<matplotlib.figure.Figure at 0x7f5770e665c0>"
      ]
     },
     "metadata": {},
     "output_type": "display_data"
    }
   ],
   "source": [
    "nb.plot_identity()"
   ]
  },
  {
   "cell_type": "markdown",
   "metadata": {},
   "source": [
    "**Identity** - This is just a linear activation. A neural network that uses only identity activation functions is a linear neural network. Interestingly, regardless of how many layers a linear neural network has, it's functionally equivalent to a single layer neural network (making it a glorified affine transformation) [2]. <span style='color: red'>[TODO: prove this?]</span>\n",
    "\n",
    "It has a simple formula:\n",
    "$$\n",
    "f(x)=x\n",
    "$$"
   ]
  },
  {
   "cell_type": "code",
   "execution_count": 4,
   "metadata": {},
   "outputs": [
    {
     "data": {
      "image/png": "[encoded data removed]",
      "text/plain": [
       "<matplotlib.figure.Figure at 0x7f576c131630>"
      ]
     },
     "metadata": {},
     "output_type": "display_data"
    }
   ],
   "source": [
    "nb.plot_relu()"
   ]
  },
  {
   "cell_type": "markdown",
   "metadata": {},
   "source": [
    "**ReLU** - Rectified Linear Unit. This is essentially just the identity activation function, but it introduces non-linearity by zeroing anything less than $x=0$. This (to me) seems especially powerful in terms of still appropriately being able to handle regression problems, while still allowing for the greater complexity a non-linear multi-layer network can provide? ReLU's are one of the most popular activation networks in deep neural networks [3].\n",
    "\n",
    "Similarly simple formula: \n",
    "$$\n",
    "f(x)=\\textrm{max}(0,x)\n",
    "$$"
   ]
  },
  {
   "cell_type": "code",
   "execution_count": 5,
   "metadata": {},
   "outputs": [
    {
     "data": {
      "image/png": "[encoded data removed]",
      "text/plain": [
       "<matplotlib.figure.Figure at 0x7f576e166cc0>"
      ]
     },
     "metadata": {},
     "output_type": "display_data"
    }
   ],
   "source": [
    "nb.plot_logistic()"
   ]
  },
  {
   "cell_type": "markdown",
   "metadata": {},
   "source": [
    "**Logistic** - The logistic function is a sigmoid (s-curve) that seems to be frequently used as the activation function in neural network tutorials due to it's trivially simple derivative [5]:\n",
    "\n",
    "$$\n",
    "f(x) = \\frac{1}{1+e^{-x}}\n",
    "$$\n",
    "$$\n",
    "\\frac{d}{dx}f(x) = f(x)(1-f(x))\n",
    "$$"
   ]
  },
  {
   "cell_type": "code",
   "execution_count": 6,
   "metadata": {},
   "outputs": [
    {
     "data": {
      "image/png": "[encoded data removed]",
      "text/plain": [
       "<matplotlib.figure.Figure at 0x7f576c04b5c0>"
      ]
     },
     "metadata": {},
     "output_type": "display_data"
    }
   ],
   "source": [
    "nb.plot_tanh()"
   ]
  },
  {
   "cell_type": "markdown",
   "metadata": {},
   "source": [
    "**Hyperbolic Tangent** - The hyperbolic tangent, or $tanh$, is similar in shape to the logistic, but has a range of -1 to 1, rather than 0 to 1.\n",
    "\n",
    "It's formula is [6]:\n",
    "$$\n",
    "f(x) = tanh x = \\frac{1-e^{-2x}}{1+e^{-2x}}\n",
    "$$"
   ]
  },
  {
   "cell_type": "markdown",
   "metadata": {},
   "source": [
    "## Experiment"
   ]
  },
  {
   "cell_type": "markdown",
   "metadata": {},
   "source": [
    "The experiment will consist of a set of different problems, and for each problem, I'll run a network for several different architectures for several different activation function types:\n",
    "\n",
    "**Architectures:**\n",
    "<span style='color: red'>[TODO: TBD]</span>\n",
    "\n",
    "**Activation Functions:**\n",
    "- Identity (linear)\n",
    "- ReLU\n",
    "- Logistic\n",
    "- TanH\n",
    "\n",
    "**Problems:**\n",
    "- Generated addition data, learn the formula $f(i_1,i_2)=i_1+i_2$\n",
    "- Generated exponential data, learn the formula $f(i_1,i_2)={i_1}^{i_2}$ <span style='color: purple'>This seems like it'd be pretty difficult to learn, since calculating this requires looping? Very curious how this turns out</span>\n",
    "- Generated addition data, but inputs represented in binary\n",
    "- Generated exponential data, but inputs represented in binary\n",
    "- Generated classification data for if input point is within circle: \n",
    "$\n",
    "f(i_1,i_2,h,k,r) = \\left\\{\n",
    "        \\begin{array}{ll}\n",
    "            1 & : (x-h)^2 + (y-k)^2 \\leq r^2 \\\\\n",
    "            0 & : (x-h)^2 + (y-k)^2 > r^2\n",
    "        \\end{array}\n",
    "    \\right.\n",
    "$\n",
    "- Generated quadratic formula data: $f(a,b,c)=\\frac{-b\\pm\\sqrt{b^2-4ac}}{2a}$\n",
    "<span style='color: purple'>For now, all imaginary solutions will be ignored</span>\n",
    "\n",
    "**Data Collection:**\n",
    "- Architecture\n",
    "- Activation function\n",
    "- Training data row count\n",
    "- Problem domain sizes\n",
    "- Epoch count\n",
    "- Training time\n",
    "- (Regression) Mean squared error [4]\n",
    "- (Binary classification) Confusion matrix stats"
   ]
  },
  {
   "cell_type": "markdown",
   "metadata": {},
   "source": [
    "## Hypotheses"
   ]
  },
  {
   "cell_type": "markdown",
   "metadata": {},
   "source": [
    "## Results"
   ]
  },
  {
   "cell_type": "markdown",
   "metadata": {},
   "source": [
    "# <span style='color: purple'>NOTES</span>\n",
    "\n",
    "Read: [http://journal.frontiersin.org/article/10.3389/fncom.2014.00043/full](http://journal.frontiersin.org/article/10.3389/fncom.2014.00043/full) for more info on metrics etc. (Mostly only discusses different ways of using confusion matrix metrics)\n",
    "\n",
    "Also, an interesting thing to include in the testing datasets for regression problems would be something farther in range (so for addition, a far larger addition problem than normal) than it ever saw in training to check if it's actually generalized well enough or not. <span style='color: red'>[Any sources of something like this being done?]</style>\n",
    "\n",
    "Something to explore later is why something simple like an XOR network seems to require two outputs (like a classifier) as opposed to being able to output the result to one output neuron"
   ]
  },
  {
   "cell_type": "markdown",
   "metadata": {},
   "source": [
    "## Sources\n",
    "\n",
    "[1] [https://en.wikipedia.org/wiki/Activation_function](https://en.wikipedia.org/wiki/Activation_function)  \n",
    "[2] [http://people.whitman.edu/~hundledr/courses/M350S08/Ch10.pdf](http://people.whitman.edu/~hundledr/courses/M350S08/Ch10.pdf)  \n",
    "[3] [https://en.wikipedia.org/wiki/Rectifier_(neural_networks)](https://en.wikipedia.org/wiki/Rectifier_(neural_networks))  \n",
    "[4] [https://en.wikipedia.org/wiki/Mean_squared_error](https://en.wikipedia.org/wiki/Mean_squared_error)  \n",
    "[5] [https://en.wikipedia.org/wiki/Logistic_function](https://en.wikipedia.org/wiki/Logistic_function)  \n",
    "[6] [https://en.wikipedia.org/wiki/Hyperbolic_function#Hyperbolic_tangent](https://en.wikipedia.org/wiki/Hyperbolic_function#Hyperbolic_tangent)"
   ]
  }
 ],
 "metadata": {
  "kernelspec": {
   "display_name": "Python 3",
   "language": "python",
   "name": "python3"
  },
  "language_info": {
   "codemirror_mode": {
    "name": "ipython",
    "version": 3
   },
   "file_extension": ".py",
   "mimetype": "text/x-python",
   "name": "python",
   "nbconvert_exporter": "python",
   "pygments_lexer": "ipython3",
   "version": "3.6.2"
  }
 },
 "nbformat": 4,
 "nbformat_minor": 2
}
